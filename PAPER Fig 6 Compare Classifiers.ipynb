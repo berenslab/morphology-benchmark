{
 "cells": [
  {
   "cell_type": "code",
   "execution_count": 2,
   "metadata": {},
   "outputs": [],
   "source": [
    "import pandas as pd\n",
    "import numpy as np\n",
    "\n",
    "# PLOTTING\n",
    "\n",
    "import seaborn as sns\n",
    "import matplotlib.pyplot as plt\n",
    "%matplotlib inline"
   ]
  },
  {
   "cell_type": "code",
   "execution_count": 42,
   "metadata": {},
   "outputs": [],
   "source": [
    "results =pd.read_csv(\"./data/classification/pairwise_classification_performances.csv\").reset_index()\n",
    "\n",
    "statistics = pd.read_csv(\"./data/statistic_descriptions.csv\").reset_index()"
   ]
  },
  {
   "cell_type": "code",
   "execution_count": 43,
   "metadata": {},
   "outputs": [],
   "source": [
    "def get_stat_type(sid):\n",
    "    \n",
    "    if sid < 10:\n",
    "        return \"density map\"\n",
    "    elif sid < 16:\n",
    "        return \"morph dist\"\n",
    "    elif sid < 50:\n",
    "        return \"morphometrics\"\n",
    "    elif sid < 70:\n",
    "        return \"morph dist\"\n",
    "    elif sid < 80:\n",
    "        return \"persistence\"\n",
    "    elif sid == 80:\n",
    "        return \"morphometrics\"\n",
    "    elif sid == 100:\n",
    "        return \"combined\""
   ]
  },
  {
   "cell_type": "code",
   "execution_count": 44,
   "metadata": {},
   "outputs": [],
   "source": [
    "data = results.groupby(['statistic_id', 'ds_id', 'part_id', 'classifier_id']).mean().reset_index()\n",
    "data['stat_type'] = data['statistic_id'].apply(lambda x: get_stat_type(x))\n",
    "data = data[(data['statistic_id'] > 3) & (data['statistic_id'] < 100) \n",
    "            & (data['statistic_id'] != 72) & (data['statistic_id'] != 73)] # exclude combined features and features not considered in paper"
   ]
  },
  {
   "cell_type": "markdown",
   "metadata": {},
   "source": [
    "get the top 5 performing features for each statistic type and each data set"
   ]
  },
  {
   "cell_type": "code",
   "execution_count": 45,
   "metadata": {},
   "outputs": [],
   "source": [
    "rankings = {}\n",
    "for criterion in ['accuracy_test', 'f1_test', 'mcc_test']:\n",
    "    top_index = dict()\n",
    "    ix = 5\n",
    "    rankings[criterion] ={}\n",
    "    for c in np.unique(data['classifier_id']):\n",
    "        rankings[criterion][c] = {}\n",
    "        top_index_c = []\n",
    "        for n,p in [('full',1),('axon',2),('dendrite',3), ('axon+dendrite', 4)]:\n",
    "            #print('top %i for %s and classifier %s'%(ix,n,c))\n",
    "            top_5 = list(data[(data['part_id'] == p)&(data['classifier_id'] == c) ].groupby(['statistic_id']).mean().sort_values(criterion, ascending=False).index[:ix].values)\n",
    "            #print(top_10)\n",
    "            top_index_c += top_5\n",
    "            top_index[c] = list(set(top_index_c))\n",
    "            \n",
    "            rankings[criterion][c][n] = dict(zip(top_5, range(1,6)))\n",
    "        \n",
    "criterion = 'log_loss_test'\n",
    "rankings[criterion] ={}\n",
    "rankings[criterion][1] = {}\n",
    "for n,p in [('full',1),('axon',2),('dendrite',3), ('axon+dendrite', 4)]:\n",
    "    top_5 = list(data[(data['part_id'] == p)&(data['classifier_id'] == 1) ].groupby(['statistic_id']).mean().sort_values(criterion).index[:ix].values)\n",
    "    \n",
    "    rankings[criterion][1][n] = dict(zip(top_5, range(1,6)))"
   ]
  },
  {
   "cell_type": "code",
   "execution_count": 46,
   "metadata": {
    "scrolled": true
   },
   "outputs": [],
   "source": [
    "stats = set()\n",
    "for s in list(top_index.values()):\n",
    "    stats = stats.union(set(s))"
   ]
  },
  {
   "cell_type": "code",
   "execution_count": 47,
   "metadata": {},
   "outputs": [],
   "source": [
    "compare_scores = np.zeros((len(stats),18))\n",
    "\n",
    "for ix,s in enumerate(stats):\n",
    "    for n,p in [('full',1),('axon',2),('dendrite',3), ('axon+dendrite', 4)]:\n",
    "        k = 0 \n",
    "        for c in np.unique(data['classifier_id']):\n",
    "            try:\n",
    "                # fill log loss column\n",
    "                compare_scores[ix,(p-1)*5 + k] = rankings['mcc_test'][c][n][s]\n",
    "            except KeyError:\n",
    "                continue\n",
    "            k += 1\n"
   ]
  },
  {
   "cell_type": "code",
   "execution_count": 48,
   "metadata": {
    "scrolled": true
   },
   "outputs": [
    {
     "data": {
      "text/plain": [
       "{5, 7, 10, 71, 75, 78, 80}"
      ]
     },
     "execution_count": 48,
     "metadata": {},
     "output_type": "execute_result"
    }
   ],
   "source": [
    "stats"
   ]
  },
  {
   "cell_type": "code",
   "execution_count": 51,
   "metadata": {},
   "outputs": [],
   "source": [
    "cmap = plt.cm.summer\n",
    "cmap.set_bad((1, 1, 1, 1))\n",
    "compare_scores[compare_scores == 0] = np.nan\n",
    "\n",
    "stat_labels = ['DM xz', 'DM z', 'DM yz',  \n",
    "               'Persistence 2D radial', 'Persistence 2D path', 'Persistence 2D z-proj',  'Morphometrics' ]"
   ]
  },
  {
   "cell_type": "code",
   "execution_count": 52,
   "metadata": {},
   "outputs": [
    {
     "data": {
      "image/png": "[encoded data removed]",
      "text/plain": [
       "<Figure size 432x288 with 2 Axes>"
      ]
     },
     "metadata": {
      "needs_background": "light"
     },
     "output_type": "display_data"
    }
   ],
   "source": [
    "plt.figure(figsize=(6,4))\n",
    "sns.heatmap(compare_scores, annot=True,cmap='summer', yticklabels=stat_labels, cbar=False )\n",
    "sns.despine()\n",
    "_ = plt.gca().set_xticks([0.5,1.5,2.5,5.5,6.5,7.5,10.5,11.5,12.5,15.5,16.5,17.5])\n",
    "_ = plt.gca().set_xticklabels(['LogitNet', '3-NN', 'Decision Tree']*4, rotation=90)\n",
    "\n",
    "ax2 = plt.gca().twiny()\n",
    "ax2.set_xlim([0,18])\n",
    "_ = ax2.set_xticks([1.5,6.5, 11.5, 16.5])\n",
    "_ = ax2.set_xticklabels(['full', 'axon', 'dendrite', 'axon +\\n dendrite'])\n",
    "plt.tight_layout()"
   ]
  },
  {
   "cell_type": "code",
   "execution_count": 53,
   "metadata": {},
   "outputs": [],
   "source": [
    "compare_scores = np.zeros((len(stats),14))\n",
    "\n",
    "for ix,s in enumerate(stats):\n",
    "    try:\n",
    "        # fill log loss column\n",
    "        compare_scores[ix,0] = rankings['log_loss_test'][1]['full'][s]\n",
    "    except KeyError:\n",
    "        continue\n",
    "\n",
    "    compare_scores[ix,1] = rankings['accuracy_test'][1]['full'][s]\n",
    "    compare_scores[ix,2] = rankings['f1_test'][1]['full'][s]\n",
    "    compare_scores[ix,3] = rankings['mcc_test'][1]['full'][s]\n",
    "    \n",
    "    # get 3-NN scores\n",
    "    compare_scores[ix,6] = rankings['accuracy_test'][6]['full'][s]\n",
    "    compare_scores[ix,7] = rankings['f1_test'][6]['full'][s]\n",
    "    compare_scores[ix,8] = rankings['mcc_test'][6]['full'][s]\n",
    "    \n",
    "    # get scores for decision tree\n",
    "    try: \n",
    "        compare_scores[ix,11] = rankings['accuracy_test'][5]['full'][s]\n",
    "    except KeyError:\n",
    "        continue\n",
    "    compare_scores[ix,12] = rankings['f1_test'][5]['full'][s]\n",
    "    compare_scores[ix,13] = rankings['mcc_test'][5]['full'][s]"
   ]
  },
  {
   "cell_type": "code",
   "execution_count": 54,
   "metadata": {},
   "outputs": [
    {
     "data": {
      "image/png": "[encoded data removed]",
      "text/plain": [
       "<Figure size 432x288 with 2 Axes>"
      ]
     },
     "metadata": {
      "needs_background": "light"
     },
     "output_type": "display_data"
    }
   ],
   "source": [
    "compare_scores[compare_scores == 0] = np.nan\n",
    "\n",
    "stat_labels = ['DM xz', 'DM z', 'DM yz',  \n",
    "               'Persistence 2D radial', 'Persistence 2D path', 'Persistence 2D z-proj',  \n",
    "               'Morphometrics' ]\n",
    "\n",
    "cmap = plt.cm.summer\n",
    "cmap.set_bad((1, 1, 1, 1))\n",
    "\n",
    "sns.heatmap(compare_scores[[0,1,2,3,4,5,6],:], annot=True,cmap='summer',yticklabels=stat_labels, cbar=False )\n",
    "sns.despine()\n",
    "_ = plt.gca().set_xticks([0.5,1.5,2.5,3.5, 6.5,7.5,8.5,11.5,12.5,13.5])\n",
    "_ = plt.gca().set_xticklabels(['Log loss']+['Accuracy', 'F1', 'MCC']*3, rotation=90)\n",
    "\n",
    "ax2 = plt.gca().twiny()\n",
    "ax2.set_xlim([0,14])\n",
    "_ = ax2.set_xticks([2,7.5, 12.5])\n",
    "_ = ax2.set_xticklabels(['LogitNet', '3-NN', 'Decision Tree'])\n",
    "plt.tight_layout()"
   ]
  }
 ],
 "metadata": {
  "kernelspec": {
   "display_name": "Python 3",
   "language": "python",
   "name": "python3"
  },
  "language_info": {
   "codemirror_mode": {
    "name": "ipython",
    "version": 3
   },
   "file_extension": ".py",
   "mimetype": "text/x-python",
   "name": "python",
   "nbconvert_exporter": "python",
   "pygments_lexer": "ipython3",
   "version": "3.5.2"
  }
 },
 "nbformat": 4,
 "nbformat_minor": 2
}
